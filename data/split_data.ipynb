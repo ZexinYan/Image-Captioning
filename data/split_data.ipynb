{
 "cells": [
  {
   "cell_type": "code",
   "execution_count": 1,
   "metadata": {
    "collapsed": true
   },
   "outputs": [],
   "source": [
    "import json\n"
   ]
  },
  {
   "cell_type": "code",
   "execution_count": 2,
   "metadata": {
    "collapsed": true
   },
   "outputs": [],
   "source": [
    "def save_file(data, filename):\n",
    "    with open('{}.json'.format(filename), 'w') as f:\n",
    "        json.dump(data, f)\n"
   ]
  },
  {
   "cell_type": "code",
   "execution_count": 3,
   "metadata": {
    "collapsed": true
   },
   "outputs": [],
   "source": [
    "with open('captions_val2014.json', 'r') as f:\n",
    "    file = json.load(f)\n",
    "\n",
    "with open('dataset_coco.json', 'r') as f:\n",
    "    captions = json.load(f)\n"
   ]
  },
  {
   "cell_type": "code",
   "execution_count": 4,
   "metadata": {},
   "outputs": [],
   "source": [
    "data_images = []\n",
    "for each in file['images']:\n",
    "    data_images.append(each['file_name'])\n"
   ]
  },
  {
   "cell_type": "code",
   "execution_count": 5,
   "metadata": {},
   "outputs": [
    {
     "name": "stdout",
     "output_type": "stream",
     "text": [
      "32403\n",
      "8101\n"
     ]
    }
   ],
   "source": [
    "train_data_file_names = data_images[:int(0.8 * len(data_images))]\n",
    "val_data_file_names = data_images[int(0.8 * len(data_images)):]\n",
    "print(len(train_data_file_names))\n",
    "print(len(val_data_file_names))\n"
   ]
  },
  {
   "cell_type": "code",
   "execution_count": null,
   "metadata": {},
   "outputs": [],
   "source": [
    "filename2sents = {}\n",
    "for each in captions['images']:\n",
    "    if each['filename'] in data_images:\n",
    "        filename2sents[each['filename']] = each['sentences'][0]['tokens']\n"
   ]
  },
  {
   "cell_type": "code",
   "execution_count": 29,
   "metadata": {
    "collapsed": true
   },
   "outputs": [],
   "source": [
    "save_file(train_data_file_names, \"train_files\")\n",
    "save_file(val_data_file_names, \"val_files\")\n",
    "save_file(filename2sents, \"captions\")\n"
   ]
  }
 ],
 "metadata": {
  "kernelspec": {
   "display_name": "Python 3",
   "language": "python",
   "name": "python3"
  },
  "language_info": {
   "codemirror_mode": {
    "name": "ipython",
    "version": 3
   },
   "file_extension": ".py",
   "mimetype": "text/x-python",
   "name": "python",
   "nbconvert_exporter": "python",
   "pygments_lexer": "ipython3",
   "version": "3.5.1"
  }
 },
 "nbformat": 4,
 "nbformat_minor": 2
}
